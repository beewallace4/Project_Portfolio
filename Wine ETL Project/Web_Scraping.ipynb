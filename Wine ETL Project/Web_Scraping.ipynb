{
 "cells": [
  {
   "cell_type": "code",
   "execution_count": null,
   "id": "c095db54",
   "metadata": {},
   "outputs": [],
   "source": [
    "from splinter import Browser\n",
    "from bs4 import BeautifulSoup\n",
    "from webdriver_manager.chrome import ChromeDriverManager\n",
    "import pandas as pd\n",
    "from selenium import webdriver"
   ]
  },
  {
   "cell_type": "code",
   "execution_count": null,
   "id": "7cdd73a7",
   "metadata": {},
   "outputs": [],
   "source": [
    "options = webdriver.ChromeOptions() \n",
    "options.add_argument(\"start-maximized\")\n",
    "options.add_argument('--disable-blink-features=AutomationControlled')\n",
    "\n",
    "executable_path = {'executable_path': ChromeDriverManager().install()}\n",
    "browser = Browser('chrome', **executable_path, options=options)"
   ]
  },
  {
   "cell_type": "code",
   "execution_count": null,
   "id": "5d8b6b8d",
   "metadata": {},
   "outputs": [],
   "source": [
    "url = 'https://www.vivino.com/'"
   ]
  },
  {
   "cell_type": "code",
   "execution_count": null,
   "id": "cf5d92ca",
   "metadata": {},
   "outputs": [],
   "source": [
    "browser.visit(url)"
   ]
  },
  {
   "cell_type": "code",
   "execution_count": null,
   "id": "fdc3ec68",
   "metadata": {},
   "outputs": [],
   "source": [
    "html = browser.html\n",
    "soup = BeautifulSoup(html)\n",
    "type(soup)"
   ]
  },
  {
   "cell_type": "code",
   "execution_count": null,
   "id": "e239ba48",
   "metadata": {},
   "outputs": [],
   "source": [
    "soup = BeautifulSoup(browser.html, 'html.parser')\n",
    "print(soup.prettify())"
   ]
  },
  {
   "cell_type": "code",
   "execution_count": null,
   "id": "0b672d62",
   "metadata": {},
   "outputs": [],
   "source": [
    "wines = soup.find_all('div', class_=\"wineCard__topSection--11oVj\")\n",
    "len(wines)"
   ]
  },
  {
   "cell_type": "code",
   "execution_count": null,
   "id": "4bc0f9fc",
   "metadata": {},
   "outputs": [],
   "source": [
    "rows = []\n",
    "\n",
    "for wine in wines: \n",
    "    rating = wine.find('div', {'class':'vivinoRating_averageValue__uDdPM'}).text\n",
    "    price = wine.find('div', {'class':'addToCartButton__price--qJdh4'}).text.strip('$')\n",
    "    num_ratings = wine.find('div', {'class':'vivinoRating_caption__xL84P'}).text.split(' ')[0]\n",
    "    brand = wine.find('div', {'class':'wineInfoVintage__truncate--3QAtw'}).text\n",
    "    vintage = wine.find('div', {'class':'wineInfoVintage__vintage--VvWlU'}).text\n",
    "    location = wine.find('div', {'class':'wineInfoLocation__regionAndCountry--1nEJz'}).text\n",
    "    \n",
    "    data = {'brand': brand, 'vintage': vintage, 'rating': rating, 'price': price, 'num_ratings': num_ratings, 'location': location}\n",
    "    rows.append(data)\n",
    "\n",
    "df_us = pd.DataFrame(rows)"
   ]
  },
  {
   "cell_type": "code",
   "execution_count": null,
   "id": "17314308",
   "metadata": {},
   "outputs": [],
   "source": [
    "df_us"
   ]
  },
  {
   "cell_type": "code",
   "execution_count": null,
   "id": "6522e629",
   "metadata": {},
   "outputs": [],
   "source": [
    "df_us.to_csv('backup_us.csv')"
   ]
  },
  {
   "cell_type": "code",
   "execution_count": null,
   "id": "2ab78e4f",
   "metadata": {},
   "outputs": [],
   "source": [
    "html = browser.html\n",
    "soup = BeautifulSoup(html)\n",
    "type(soup)"
   ]
  },
  {
   "cell_type": "code",
   "execution_count": null,
   "id": "c6bc7bd2",
   "metadata": {},
   "outputs": [],
   "source": [
    "soup = BeautifulSoup(browser.html, 'html.parser')"
   ]
  },
  {
   "cell_type": "code",
   "execution_count": null,
   "id": "e00371c5",
   "metadata": {},
   "outputs": [],
   "source": [
    "wines = soup.find_all('div', class_=\"wineCard__topSection--11oVj\")\n",
    "len(results)"
   ]
  },
  {
   "cell_type": "code",
   "execution_count": null,
   "id": "f1cca626",
   "metadata": {},
   "outputs": [],
   "source": [
    "rows = []\n",
    "\n",
    "for wine in wines: \n",
    "    rating = wine.find('div', {'class':'vivinoRating_averageValue__uDdPM'}).text\n",
    "    price = wine.find('div', {'class':'addToCartButton__price--qJdh4'}).text.strip('$')\n",
    "    num_ratings = wine.find('div', {'class':'vivinoRating_caption__xL84P'}).text.split(' ')[0]\n",
    "    brand = wine.find('div', {'class':'wineInfoVintage__truncate--3QAtw'}).text\n",
    "    vintage = wine.find('div', {'class':'wineInfoVintage__vintage--VvWlU'}).text\n",
    "    location = wine.find('div', {'class':'wineInfoLocation__regionAndCountry--1nEJz'}).text\n",
    "    \n",
    "    data = {'brand': brand, 'vintage': vintage, 'rating': rating, 'price': price, 'num_ratings': num_ratings, 'location': location}\n",
    "    rows.append(data)\n",
    "\n",
    "df_int = pd.DataFrame(rows)"
   ]
  },
  {
   "cell_type": "code",
   "execution_count": null,
   "id": "ecdb8104",
   "metadata": {},
   "outputs": [],
   "source": [
    "df_int.head()"
   ]
  },
  {
   "cell_type": "code",
   "execution_count": null,
   "id": "09e9872b",
   "metadata": {},
   "outputs": [],
   "source": [
    "df_int.to_csv('backup_int.csv')"
   ]
  },
  {
   "cell_type": "code",
   "execution_count": null,
   "id": "2777a43c",
   "metadata": {},
   "outputs": [],
   "source": [
    "df1 = pd.read_csv('backup_int.csv')\n",
    "df2 = pd.read_csv('backup_us.csv')"
   ]
  },
  {
   "cell_type": "code",
   "execution_count": null,
   "id": "8d3913b2",
   "metadata": {},
   "outputs": [],
   "source": [
    "df1"
   ]
  },
  {
   "cell_type": "code",
   "execution_count": null,
   "id": "78064552",
   "metadata": {},
   "outputs": [],
   "source": [
    "df2"
   ]
  },
  {
   "cell_type": "code",
   "execution_count": null,
   "id": "ef4ac2cf",
   "metadata": {},
   "outputs": [],
   "source": [
    "frames = [df1, df2]\n",
    "df = pd.concat(frames)\n",
    "df"
   ]
  },
  {
   "cell_type": "code",
   "execution_count": null,
   "id": "411853b4",
   "metadata": {},
   "outputs": [],
   "source": [
    "df2 = df['location'].str.split(',', expand=True)\n",
    "df2"
   ]
  },
  {
   "cell_type": "code",
   "execution_count": null,
   "id": "d4b241ed",
   "metadata": {},
   "outputs": [],
   "source": [
    "df2 = df2.rename(columns={0 : \"region\", 1 : \"country\"})\n",
    "df2 = pd.DataFrame(df2)"
   ]
  },
  {
   "cell_type": "code",
   "execution_count": null,
   "id": "5dab1ed6",
   "metadata": {},
   "outputs": [],
   "source": [
    "df_both = df.join(df2)\n",
    "df_both"
   ]
  },
  {
   "cell_type": "code",
   "execution_count": null,
   "id": "8e848b7d",
   "metadata": {},
   "outputs": [],
   "source": [
    "test = df_both[\"vintage\"].str.extract(r'(\\w+)$')\n",
    "test"
   ]
  },
  {
   "cell_type": "code",
   "execution_count": null,
   "id": "a79c3e05",
   "metadata": {},
   "outputs": [],
   "source": [
    "test = test.rename(columns={0 : \"year\"})\n",
    "test"
   ]
  },
  {
   "cell_type": "code",
   "execution_count": null,
   "id": "d6c1fdcf",
   "metadata": {},
   "outputs": [],
   "source": [
    "df = df_both.join(test)"
   ]
  },
  {
   "cell_type": "code",
   "execution_count": null,
   "id": "684d8ea8",
   "metadata": {},
   "outputs": [],
   "source": [
    "df = df.drop('location', axis=1)"
   ]
  },
  {
   "cell_type": "code",
   "execution_count": null,
   "id": "65e0c387",
   "metadata": {},
   "outputs": [],
   "source": [
    "df.info()"
   ]
  },
  {
   "cell_type": "code",
   "execution_count": null,
   "id": "9798a1a4",
   "metadata": {},
   "outputs": [],
   "source": [
    "df"
   ]
  },
  {
   "cell_type": "code",
   "execution_count": null,
   "id": "90368e7e",
   "metadata": {},
   "outputs": [],
   "source": [
    "#Data Science"
   ]
  },
  {
   "cell_type": "code",
   "execution_count": null,
   "id": "9fecc431",
   "metadata": {},
   "outputs": [],
   "source": [
    "data = df.groupby(\"country\")['rating'].mean().sort_values(ascending=False)"
   ]
  },
  {
   "cell_type": "code",
   "execution_count": null,
   "id": "1a1b295f",
   "metadata": {},
   "outputs": [],
   "source": [
    "data.plot(kind=\"barh\", title=\"Average Rating by Country\", color=\"firebrick\", ylabel=\"Number of Checkouts\")"
   ]
  },
  {
   "cell_type": "code",
   "execution_count": null,
   "id": "552a0d5c",
   "metadata": {},
   "outputs": [],
   "source": [
    "price_data = df.groupby(\"country\")['price'].mean().sort_values(ascending=False)"
   ]
  },
  {
   "cell_type": "code",
   "execution_count": null,
   "id": "212bfd2c",
   "metadata": {},
   "outputs": [],
   "source": [
    "price_data.plot(kind=\"barh\", title=\"Average Price by Country\", color=\"firebrick\", ylabel=\"Butts\")"
   ]
  },
  {
   "cell_type": "code",
   "execution_count": null,
   "id": "ecb1c023",
   "metadata": {},
   "outputs": [],
   "source": [
    "num_rate_data = df.groupby(\"country\")['num_ratings'].mean().sort_values(ascending=False)"
   ]
  },
  {
   "cell_type": "code",
   "execution_count": null,
   "id": "306893dc",
   "metadata": {},
   "outputs": [],
   "source": [
    "num_rate_data.plot(kind=\"barh\", title=\"Average Price by Country\", color=\"firebrick\", ylabel=\"Number of Checkouts\")"
   ]
  },
  {
   "cell_type": "code",
   "execution_count": null,
   "id": "2b7e0a47",
   "metadata": {},
   "outputs": [],
   "source": []
  },
  {
   "cell_type": "code",
   "execution_count": null,
   "id": "fdfd00d7",
   "metadata": {},
   "outputs": [],
   "source": []
  }
 ],
 "metadata": {
  "kernelspec": {
   "display_name": "Python 3 (ipykernel)",
   "language": "python",
   "name": "python3"
  },
  "language_info": {
   "codemirror_mode": {
    "name": "ipython",
    "version": 3
   },
   "file_extension": ".py",
   "mimetype": "text/x-python",
   "name": "python",
   "nbconvert_exporter": "python",
   "pygments_lexer": "ipython3",
   "version": "3.9.12"
  }
 },
 "nbformat": 4,
 "nbformat_minor": 5
}
